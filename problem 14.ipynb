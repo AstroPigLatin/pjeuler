{
 "cells": [
  {
   "cell_type": "markdown",
   "metadata": {},
   "source": [
    "\n",
    "\n",
    "The following iterative sequence is defined for the set of positive integers:\n",
    "\n",
    "n → n/2 (n is even)\n",
    "n → 3n + 1 (n is odd)\n",
    "\n",
    "Using the rule above and starting with 13, we generate the following sequence:\n",
    "13 → 40 → 20 → 10 → 5 → 16 → 8 → 4 → 2 → 1\n",
    "\n",
    "It can be seen that this sequence (starting at 13 and finishing at 1) contains 10 terms. Although it has not been proved yet (Collatz Problem), it is thought that all starting numbers finish at 1.\n",
    "\n",
    "Which starting number, under one million, produces the longest chain?\n",
    "\n",
    "NOTE: Once the chain starts the terms are allowed to go above one million.\n"
   ]
  },
  {
   "cell_type": "code",
   "execution_count": 8,
   "metadata": {
    "collapsed": true
   },
   "outputs": [],
   "source": [
    "import time\n",
    "\n",
    "def collatz(n):\n",
    "    count = 1\n",
    "    while n > 1:\n",
    "        if n % 2 == 0:\n",
    "            n = n/2\n",
    "        else:\n",
    "            n = 3*n + 1\n",
    "        count += 1\n",
    "    return count"
   ]
  },
  {
   "cell_type": "markdown",
   "metadata": {},
   "source": [
    "Solution with no cache"
   ]
  },
  {
   "cell_type": "code",
   "execution_count": 12,
   "metadata": {},
   "outputs": [],
   "source": [
    "start = time.time()\n",
    "\n",
    "max = [0,0]\n",
    "\n",
    "for i in range(1,1000000):\n",
    "    c = collatz(i)\n",
    "    if c > max[0]:\n",
    "        max[0] = c\n",
    "        max[1] = i\n",
    "\n",
    "\n",
    "elapse = time.time() - start\n"
   ]
  },
  {
   "cell_type": "code",
   "execution_count": 11,
   "metadata": {},
   "outputs": [
    {
     "name": "stdout",
     "output_type": "stream",
     "text": [
      "found 837799 at length 525 in 56.5339720249 seconds\n"
     ]
    }
   ],
   "source": [
    "print \"found %s at length %s in %s seconds\" % (max[1], max[0], elapse)"
   ]
  },
  {
   "cell_type": "markdown",
   "metadata": {},
   "source": [
    "Solution with caching"
   ]
  },
  {
   "cell_type": "code",
   "execution_count": 22,
   "metadata": {},
   "outputs": [],
   "source": [
    "start = time.time()\n",
    "\n",
    "limit = 1000000\n",
    "collatz_length = [0] * limit\n",
    "collatz_length[1] = 1\n",
    "max_length = [1,1]"
   ]
  },
  {
   "cell_type": "code",
   "execution_count": 23,
   "metadata": {},
   "outputs": [
    {
     "name": "stdout",
     "output_type": "stream",
     "text": [
      "found 837799 at length 525 in 4.37898588181 seconds\n"
     ]
    }
   ],
   "source": [
    "for i in range(1,1000000):\n",
    "    n,s = i,0\n",
    "    TO_ADD = [] # collatz_length not yet known\n",
    "    while n > limit - 1 or collatz_length[n] < 1:\n",
    "        TO_ADD.append(n)\n",
    "        if n % 2 == 0: n = n/2\n",
    "        else: n = 3*n + 1\n",
    "        s += 1\n",
    "        #print TO_ADD\n",
    "    # collatz_length now known from previous calculations\n",
    "    p = collatz_length[n]\n",
    "    for j in range(s):\n",
    "        m = TO_ADD[j]\n",
    "        if m < limit:\n",
    "            new_length = collatz_length[n] + s - j\n",
    "            collatz_length[m] = new_length\n",
    "            if new_length > max_length[1]: max_length = [i,new_length]\n",
    " \n",
    "elapsed = (time.time() - start)\n",
    "print \"found %s at length %s in %s seconds\" % (max_length[0],max_length[1],elapsed)"
   ]
  },
  {
   "cell_type": "code",
   "execution_count": null,
   "metadata": {
    "collapsed": true
   },
   "outputs": [],
   "source": []
  }
 ],
 "metadata": {
  "kernelspec": {
   "display_name": "Python 2",
   "language": "python",
   "name": "python2"
  },
  "language_info": {
   "codemirror_mode": {
    "name": "ipython",
    "version": 2
   },
   "file_extension": ".py",
   "mimetype": "text/x-python",
   "name": "python",
   "nbconvert_exporter": "python",
   "pygments_lexer": "ipython2",
   "version": "2.7.14"
  }
 },
 "nbformat": 4,
 "nbformat_minor": 2
}
