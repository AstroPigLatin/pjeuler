{
 "cells": [
  {
   "cell_type": "code",
   "execution_count": 9,
   "metadata": {},
   "outputs": [
    {
     "name": "stdout",
     "output_type": "stream",
     "text": [
      "10946\n",
      "0.0147640705109\n"
     ]
    }
   ],
   "source": [
    "# recursive problem 1\n",
    "import time\n",
    "def num_ways(N):\n",
    "    if N == 0 or N == 1:\n",
    "        return 1\n",
    "    else:\n",
    "        return num_ways(N-1) + num_ways(N-2)\n",
    "\n",
    "start = time.time()\n",
    "print(num_ways(20))\n",
    "elapse = time.time() - start\n",
    "print(elapse)"
   ]
  },
  {
   "cell_type": "code",
   "execution_count": 15,
   "metadata": {},
   "outputs": [
    {
     "name": "stdout",
     "output_type": "stream",
     "text": [
      "6765\n",
      "0.000248908996582\n"
     ]
    }
   ],
   "source": [
    "def num_ways(N):\n",
    "    value_list = [0]*(N+1)\n",
    "    value_list[0] = 1\n",
    "    value_list[1] = 1\n",
    "    for i in range(2, N):\n",
    "        value_list[i] = value_list[i-1] + value_list[i-2]\n",
    "    return value_list[i]\n",
    "\n",
    "start = time.time()\n",
    "print(num_ways(20))\n",
    "elapse = time.time() - start\n",
    "print(elapse)"
   ]
  },
  {
   "cell_type": "code",
   "execution_count": 29,
   "metadata": {},
   "outputs": [
    {
     "name": "stdout",
     "output_type": "stream",
     "text": [
      "5050\n",
      "0.00133514404297\n"
     ]
    }
   ],
   "source": [
    "# recursive problem 2\n",
    "\n",
    "# Consider a situation that you have three boxes in front of you and only one of them has a gold coin \n",
    "# in it but you do not know which one. So, in order to get the coin, you will have to open all of the \n",
    "# boxes one by one. You will first check the first box, if it does not contain the coin, you will have \n",
    "# to close it and check the second box and so on until you find the coin.\n",
    "\n",
    "# write a function to find the total number of ways the boxes can be opened\n",
    "# basically a combination problem\n",
    "# n = 1 >> num_ways(1) = 1\n",
    "# n = 2 >> num_ways(2) = 2 + 1 = 3\n",
    "# n = 3 >> num_ways(3) = 3 + 2 + 1 = 6\n",
    "# n = n >> num_ways(n) = (n) + num_ways(n-1)\n",
    "\n",
    "def num_ways(n):\n",
    "    if n == 1:\n",
    "        return 1\n",
    "    else:\n",
    "        return n + num_ways(n-1)\n",
    "\n",
    "start = time.time()\n",
    "print(num_ways(100))\n",
    "elapse = time.time() - start\n",
    "print(elapse)"
   ]
  },
  {
   "cell_type": "code",
   "execution_count": 30,
   "metadata": {},
   "outputs": [
    {
     "name": "stdout",
     "output_type": "stream",
     "text": [
      "5050\n",
      "0.000326156616211\n"
     ]
    }
   ],
   "source": [
    "def num_ways(n):\n",
    "    L = [0]*(n+1)\n",
    "    L[0] = 0\n",
    "    for i in range(1,n+1):\n",
    "        L[i] = i + L[i-1]\n",
    "    return L[i]\n",
    "\n",
    "start = time.time()\n",
    "print(num_ways(100))\n",
    "elapse = time.time() - start\n",
    "print(elapse)"
   ]
  },
  {
   "cell_type": "code",
   "execution_count": 86,
   "metadata": {},
   "outputs": [
    {
     "name": "stdout",
     "output_type": "stream",
     "text": [
      "b\n",
      "[]\n"
     ]
    }
   ],
   "source": [
    "# recursive problem 3\n",
    "\n",
    "# Given a set represented as string, write a recursive code to print all subsets of it. The subsets can be printed \n",
    "# in any order.\n",
    "\n",
    "# string = 'a' >> subsets('a') = 'a' = str[0:1:1]\n",
    "# string = 'ab' >> subsets('ab') = 'a', 'b', 'ab' = str[0:1:1], str[1:2:1], str[0:2:1]\n",
    "# string = 'abc' >> subsets('abc') = 'a', 'b', 'c', 'ab', 'bc', 'ac', 'abc' \n",
    "#                                  = str[0:1:1], str[1:2:2], str[2:3:3], str[0:2:1], str[1:3:1], str[0:3:2], str[0:3:1]\n",
    "# string = 'ab...n' >> subsets('ab...n') = str[i:i+1:i+1]\n",
    "# i = [0,1,2] >> [0,...,n-1]\n",
    "# j = [1,2,3] >> [1,...,n]\n",
    "# k = [1,2,3] >> [1,...,n]\n",
    "\n",
    "\n",
    "str = 'abc'\n",
    "\n",
    "str[0:3:1]\n",
    "\n",
    "\n",
    "list = ['a','b','c']\n",
    "print list[1]\n",
    "print list[1:3]\n",
    "\n"
   ]
  },
  {
   "cell_type": "code",
   "execution_count": 78,
   "metadata": {},
   "outputs": [
    {
     "name": "stdout",
     "output_type": "stream",
     "text": [
      "c\n",
      "c\n"
     ]
    }
   ],
   "source": [
    "def print_subsets(str):\n",
    "    for i in range(0,len(str)):\n",
    "        for j in range(1,i+1):\n",
    "            for k in range(1,i):\n",
    "                print str[i:i+j:k]\n",
    "    \n",
    "print_subsets('abc')"
   ]
  },
  {
   "cell_type": "code",
   "execution_count": 100,
   "metadata": {},
   "outputs": [
    {
     "name": "stdout",
     "output_type": "stream",
     "text": [
      "[1, 3]\n"
     ]
    }
   ],
   "source": [
    "# problem 4\n",
    "\n",
    "# find intersection between 3 lists\n",
    "\n",
    "list1 = [1,3,6,4,2,7]\n",
    "list2 = [2,1,8,3]\n",
    "list3 = [5,4,7,3,1]\n",
    "\n",
    "\n",
    "# expect result = [1,3]\n",
    "\n",
    "def find_intersection(list1, list2, list3):\n",
    "    list1 = sorted(list1)\n",
    "    list2 = sorted(list2)\n",
    "    list3 = sorted(list3)\n",
    "    result = []\n",
    "    i = 0\n",
    "    j = 0\n",
    "    k = 0\n",
    "    while i < len(list1) and j < len(list2) and k < len(list3):\n",
    "        if list1[i] == list2[j] and list2[j] == list3[k]:\n",
    "            result.append(list1[i])\n",
    "            i+=1\n",
    "        elif list1[i] < list2[j]:\n",
    "            i+=1\n",
    "        elif list2[j] < list3[k]:\n",
    "            j+=1\n",
    "        else:\n",
    "            k+=1\n",
    "    return result\n",
    "    \n",
    "print find_intersection(list1, list2, list3)\n",
    "        "
   ]
  },
  {
   "cell_type": "code",
   "execution_count": 111,
   "metadata": {},
   "outputs": [
    {
     "data": {
      "text/plain": [
       "ModeResult(mode=array([3]), count=array([8]))"
      ]
     },
     "execution_count": 111,
     "metadata": {},
     "output_type": "execute_result"
    }
   ],
   "source": [
    "import numpy as np\n",
    "from scipy import stats\n",
    "\n",
    "numbers = np.array([1,2,3,1,2,1,2,1,3,3,3,3,3,3,3])\n",
    "stats.mode(numbers)"
   ]
  },
  {
   "cell_type": "code",
   "execution_count": 118,
   "metadata": {},
   "outputs": [
    {
     "data": {
      "text/plain": [
       "3"
      ]
     },
     "execution_count": 118,
     "metadata": {},
     "output_type": "execute_result"
    }
   ],
   "source": [
    "numbers = [1,2,3,1,2,1,2,1,3,3,3,3,3,3,3]\n",
    "\n",
    "# find most frequently occurs number, or the mode\n",
    "\n",
    "def most_freq(numbers):\n",
    "    numbers = sorted(numbers)\n",
    "    result = {}\n",
    "    for i in range(0,len(numbers)):\n",
    "        if numbers[i] not in result:\n",
    "            result[numbers[i]]=1\n",
    "        else:\n",
    "            result[numbers[i]] += 1\n",
    "    return max(result, key=result.get)\n",
    "\n",
    "most_freq(numbers)"
   ]
  },
  {
   "cell_type": "code",
   "execution_count": 154,
   "metadata": {},
   "outputs": [
    {
     "data": {
      "text/plain": [
       "[7, 3, 1]"
      ]
     },
     "execution_count": 154,
     "metadata": {},
     "output_type": "execute_result"
    }
   ],
   "source": [
    "numbers = [1,2,3,1,2,1,2,1,3,3,3,4,4,4,7,7,7,7,7,7,7,7,3,3,3,3]\n",
    "\n",
    "# find most K frequently occur numbers\n",
    "\n",
    "def most_freq(numbers, k):\n",
    "    numbers = sorted(numbers)\n",
    "    result = {}\n",
    "    for i in range(0,len(numbers)):\n",
    "        if numbers[i] not in result:\n",
    "            result[numbers[i]]=1\n",
    "        else:\n",
    "            result[numbers[i]] += 1\n",
    "    result = sorted(result.iteritems(), key=lambda (k,v): (v,k), reverse = True)\n",
    "\n",
    "    final_result = []\n",
    "    for x in result[0:k]:\n",
    "        final_result.append(x[0])\n",
    "    return final_result\n",
    "\n",
    "most_freq(numbers, 3)"
   ]
  },
  {
   "cell_type": "code",
   "execution_count": 173,
   "metadata": {},
   "outputs": [
    {
     "name": "stdout",
     "output_type": "stream",
     "text": [
      "None\n"
     ]
    }
   ],
   "source": [
    "numbers = [1,2,3]\n",
    "\n",
    "def first_repeat(numbers):\n",
    "    result = []\n",
    "    for i in range(0, len(numbers)):\n",
    "        if numbers[i] in result:\n",
    "            return numbers[i]\n",
    "        else:\n",
    "            result.append(numbers[i])\n",
    "#    return 'No repeated number found'\n",
    "\n",
    "m = first_repeat(numbers)\n",
    "print(m)"
   ]
  },
  {
   "cell_type": "code",
   "execution_count": 182,
   "metadata": {},
   "outputs": [
    {
     "name": "stdout",
     "output_type": "stream",
     "text": [
      "[None, None, None]\n",
      "[None, None, 3]\n",
      "[None, 2, None]\n",
      "[None, 2, 3]\n",
      "[1, None, None]\n",
      "[1, None, 3]\n",
      "[1, 2, None]\n",
      "[1, 2, 3]\n"
     ]
    }
   ],
   "source": [
    "# problem 5: find subsets\n",
    "\n",
    "sets = [1,2,3]\n",
    "\n",
    "\n",
    "def find_subsets(sets):\n",
    "    subset = [0] * len(sets)\n",
    "    helper(sets,subset,0)\n",
    "\n",
    "def helper(sets,subset,i):\n",
    "    if i == len(sets):\n",
    "        print(subset)\n",
    "    else:\n",
    "        subset[i] = None\n",
    "        helper(sets,subset,i+1)\n",
    "        subset[i] = sets[i]\n",
    "        helper(sets,subset,i+1)\n",
    "    \n",
    "find_subsets(sets)"
   ]
  },
  {
   "cell_type": "code",
   "execution_count": 5,
   "metadata": {},
   "outputs": [
    {
     "data": {
      "text/plain": [
       "2"
      ]
     },
     "execution_count": 5,
     "metadata": {},
     "output_type": "execute_result"
    }
   ],
   "source": [
    "#problem 6: fibonacci\n",
    "# find the nth fibnacci number\n",
    "# n = 1 => f(1) = 1\n",
    "# n = 2 => f(2) = 1\n",
    "# n = 3 => f(3) = 1 + 1 = f(2) + f(1) = 2\n",
    "# n = n + 1 => f(n+1) = f(n) + f(n-1)\n",
    "\n",
    "def fibonacci(number):\n",
    "    if number == 1 or number == 2:\n",
    "        return 1\n",
    "    else:\n",
    "        return fibonacci(number-1) + fibonacci(number-2)\n",
    "\n",
    "    \n",
    "number = 6\n",
    "fibonacci(number)\n",
    "\n",
    "#dynamic programming\n",
    "def fibonacci_dp(number):\n",
    "    fibonacci_list = [0] * number # if number is 3, [0, 0, 0]\n",
    "    fibonacci_list[0] = 1\n",
    "    fibonacci_list[1] = 1\n",
    "    for i in range(2, number): #if number = 3\n",
    "        fibonacci_list[i] = fibonacci_list[i-1] + fibonacci_list[i-2]\n",
    "    return fibonacci_list[i]\n",
    "\n",
    "number = 3\n",
    "fibonacci_dp(number)"
   ]
  },
  {
   "cell_type": "code",
   "execution_count": null,
   "metadata": {
    "collapsed": true
   },
   "outputs": [],
   "source": []
  }
 ],
 "metadata": {
  "kernelspec": {
   "display_name": "Python 2",
   "language": "python",
   "name": "python2"
  },
  "language_info": {
   "codemirror_mode": {
    "name": "ipython",
    "version": 2
   },
   "file_extension": ".py",
   "mimetype": "text/x-python",
   "name": "python",
   "nbconvert_exporter": "python",
   "pygments_lexer": "ipython2",
   "version": "2.7.14"
  }
 },
 "nbformat": 4,
 "nbformat_minor": 2
}
